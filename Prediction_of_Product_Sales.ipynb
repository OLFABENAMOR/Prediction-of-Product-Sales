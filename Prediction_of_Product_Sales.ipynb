{
  "nbformat": 4,
  "nbformat_minor": 0,
  "metadata": {
    "colab": {
      "provenance": [],
      "authorship_tag": "ABX9TyOiNDRXSMHfb/U+tsKRMLAk",
      "include_colab_link": true
    },
    "kernelspec": {
      "name": "python3",
      "display_name": "Python 3"
    },
    "language_info": {
      "name": "python"
    }
  },
  "cells": [
    {
      "cell_type": "markdown",
      "metadata": {
        "id": "view-in-github",
        "colab_type": "text"
      },
      "source": [
        "<a href=\"https://colab.research.google.com/github/OLFABENAMOR/Prediction-of-Product-Sales/blob/main/Prediction_of_Product_Sales.ipynb\" target=\"_parent\"><img src=\"https://colab.research.google.com/assets/colab-badge.svg\" alt=\"Open In Colab\"/></a>"
      ]
    },
    {
      "cell_type": "markdown",
      "source": [
        "# Prediction of Product Sales"
      ],
      "metadata": {
        "id": "z9RS8drXz2dh"
      }
    },
    {
      "cell_type": "markdown",
      "source": [
        "- BENAMOR Olfa"
      ],
      "metadata": {
        "id": "c0hLK4b21MH9"
      }
    },
    {
      "cell_type": "markdown",
      "source": [
        "## Project Overview"
      ],
      "metadata": {
        "id": "ygggOlhr1csk"
      }
    },
    {
      "cell_type": "markdown",
      "source": [],
      "metadata": {
        "id": "RPo2fdyq1dus"
      }
    },
    {
      "cell_type": "markdown",
      "source": [
        "## Load and Inspect Data"
      ],
      "metadata": {
        "id": "y0ZkYVWr1iZh"
      }
    },
    {
      "cell_type": "code",
      "source": [],
      "metadata": {
        "id": "IAUJcmgi1wM6"
      },
      "execution_count": null,
      "outputs": []
    },
    {
      "cell_type": "markdown",
      "source": [
        "## Clean Data"
      ],
      "metadata": {
        "id": "nLTb8Fpk1oSo"
      }
    },
    {
      "cell_type": "code",
      "source": [],
      "metadata": {
        "id": "wHuRFiMZ1vVu"
      },
      "execution_count": null,
      "outputs": []
    },
    {
      "cell_type": "markdown",
      "source": [
        "## Exploratory Data Analysis"
      ],
      "metadata": {
        "id": "CX_V751w19mm"
      }
    },
    {
      "cell_type": "code",
      "source": [],
      "metadata": {
        "id": "VxwPfE012G3a"
      },
      "execution_count": null,
      "outputs": []
    },
    {
      "cell_type": "markdown",
      "source": [
        "## Feature Inspection"
      ],
      "metadata": {
        "id": "RcKImkTa2Dj5"
      }
    },
    {
      "cell_type": "code",
      "source": [],
      "metadata": {
        "id": "k-KuNaTr1-18"
      },
      "execution_count": null,
      "outputs": []
    }
  ]
}